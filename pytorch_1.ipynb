{
  "nbformat": 4,
  "nbformat_minor": 0,
  "metadata": {
    "colab": {
      "name": "pytorch_1.ipynb",
      "provenance": [],
      "authorship_tag": "ABX9TyOp54KgiBI1Tx/QthGukHQ2",
      "include_colab_link": true
    },
    "kernelspec": {
      "name": "python3",
      "display_name": "Python 3"
    },
    "language_info": {
      "name": "python"
    }
  },
  "cells": [
    {
      "cell_type": "markdown",
      "metadata": {
        "id": "view-in-github",
        "colab_type": "text"
      },
      "source": [
        "<a href=\"https://colab.research.google.com/github/ansehoon1999/pytorch_practice/blob/main/pytorch_1.ipynb\" target=\"_parent\"><img src=\"https://colab.research.google.com/assets/colab-badge.svg\" alt=\"Open In Colab\"/></a>"
      ]
    },
    {
      "cell_type": "markdown",
      "source": [
        "#기본 설정"
      ],
      "metadata": {
        "id": "R0qE6FZViZ5P"
      }
    },
    {
      "cell_type": "code",
      "execution_count": 1,
      "metadata": {
        "id": "Y-BEKicch73P"
      },
      "outputs": [],
      "source": [
        "import torch\n",
        "\n",
        "if torch.cuda.is_available() :\n",
        "  DEVICE = torch.device('cuda')\n",
        "else :\n",
        "  DEVICE = torch.device('cpu')"
      ]
    },
    {
      "cell_type": "markdown",
      "source": [
        "#변수 정의"
      ],
      "metadata": {
        "id": "Ab-MrJMliil_"
      }
    },
    {
      "cell_type": "code",
      "source": [
        "BATCH_SIZE = 64\n",
        "INPUT_SIZE = 1000\n",
        "HIDDEN_SIZE = 100\n",
        "OUTPUT_SIZE = 10"
      ],
      "metadata": {
        "id": "1abvEzp3iZk-"
      },
      "execution_count": 2,
      "outputs": []
    },
    {
      "cell_type": "code",
      "source": [
        "x = torch.randn(BATCH_SIZE, INPUT_SIZE, device = DEVICE, dtype = torch.float, requires_grad = False)\n",
        "y = torch.randn(BATCH_SIZE, OUTPUT_SIZE, device = DEVICE , dtype = torch.float, requires_grad = False)\n",
        "\n",
        "w1 = torch.randn(INPUT_SIZE, HIDDEN_SIZE, device = DEVICE, dtype = torch.float, requires_grad = True)\n",
        "w2 = torch.randn(HIDDEN_SIZE, OUTPUT_SIZE, device = DEVICE, dtype = torch.float, requires_grad = True)\n"
      ],
      "metadata": {
        "id": "rl7K9IAUiZa9"
      },
      "execution_count": 13,
      "outputs": []
    },
    {
      "cell_type": "markdown",
      "source": [
        "#model"
      ],
      "metadata": {
        "id": "9snrhMt9kZWE"
      }
    },
    {
      "cell_type": "code",
      "source": [
        "learning_rate = 1e-6\n",
        "for t in range(1, 501) :\n",
        "  y_pred = x.mm(w1).clamp(min = 0).mm(w2)\n",
        "\n",
        "  loss = (y_pred - y).pow(2).sum()\n",
        "  if t % 100 == 0 :\n",
        "    print(\"iteration: \", t, \"\\t\", \"Loss: \", loss.item())\n",
        "  loss.backward() #gradient 계산\n",
        " \n",
        "  with torch.no_grad() : #파라미터의 값을 업데이터 할 당시의 시점의 gradient 값을 고정한 후 업데이트를 진행, 업데이트 시점에서 gradient 고정\n",
        "    w1 -=learning_rate * w1.grad\n",
        "    w2 -=learning_rate * w2.grad\n",
        "\n",
        "    w1.grad.zero_()\n",
        "    w2.grad.zero_()"
      ],
      "metadata": {
        "colab": {
          "base_uri": "https://localhost:8080/"
        },
        "id": "pxWe0ckXiZTa",
        "outputId": "23117072-b982-4e4b-d386-47fbe6bdbc94"
      },
      "execution_count": 14,
      "outputs": [
        {
          "output_type": "stream",
          "name": "stdout",
          "text": [
            "iteration:  100 \t Loss:  225.35073852539062\n",
            "iteration:  200 \t Loss:  0.2883158028125763\n",
            "iteration:  300 \t Loss:  0.0007274734671227634\n",
            "iteration:  400 \t Loss:  4.326335329096764e-05\n",
            "iteration:  500 \t Loss:  1.36293274408672e-05\n"
          ]
        }
      ]
    }
  ]
}