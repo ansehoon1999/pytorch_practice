{
  "nbformat": 4,
  "nbformat_minor": 0,
  "metadata": {
    "colab": {
      "name": "pytorch_3.ipynb",
      "provenance": [],
      "collapsed_sections": [],
      "authorship_tag": "ABX9TyOHgD0qzj2C2aT+0CM0LElB",
      "include_colab_link": true
    },
    "kernelspec": {
      "name": "python3",
      "display_name": "Python 3"
    },
    "language_info": {
      "name": "python"
    }
  },
  "cells": [
    {
      "cell_type": "markdown",
      "metadata": {
        "id": "view-in-github",
        "colab_type": "text"
      },
      "source": [
        "<a href=\"https://colab.research.google.com/github/ansehoon1999/pytorch_practice/blob/main/pytorch_3.ipynb\" target=\"_parent\"><img src=\"https://colab.research.google.com/assets/colab-badge.svg\" alt=\"Open In Colab\"/></a>"
      ]
    },
    {
      "cell_type": "markdown",
      "source": [
        "#initialization"
      ],
      "metadata": {
        "id": "BMMYACkngy7Y"
      }
    },
    {
      "cell_type": "code",
      "execution_count": null,
      "metadata": {
        "colab": {
          "base_uri": "https://localhost:8080/"
        },
        "id": "nMHfDjA6eXjW",
        "outputId": "11f216ec-f701-4f69-8e48-906361e34f31"
      },
      "outputs": [
        {
          "output_type": "stream",
          "name": "stdout",
          "text": [
            "Using PyTorch version:  1.10.0+cu111 Device:  cpu\n"
          ]
        }
      ],
      "source": [
        "import numpy as np\n",
        "import matplotlib.pyplot as plt\n",
        "\n",
        "import torch\n",
        "import torch.nn as nn\n",
        "import torch.nn.functional as F\n",
        "from torchvision import transforms, datasets\n",
        "\n",
        "if torch.cuda.is_available() :\n",
        "  DEVICE = torch.device('cuda')\n",
        "else :\n",
        "  DEVICE = torch.device('cpu')\n",
        "\n",
        "print('Using PyTorch version: ', torch.__version__, 'Device: ', DEVICE)"
      ]
    },
    {
      "cell_type": "markdown",
      "source": [
        "#data 확인"
      ],
      "metadata": {
        "id": "hAUk5Ya_g1DQ"
      }
    },
    {
      "cell_type": "code",
      "source": [
        "BATCH_SIZE = 32\n",
        "EPOCHS = 10\n",
        "\n",
        "train_dataset = datasets.MNIST(root = \"../data/MNIST\", train = True, download = True, transform = transforms.ToTensor())\n",
        "test_dataset = datasets.MNIST(root= \"../data/MNIST\", train= False, transform = transforms.ToTensor())\n",
        "\n",
        "train_loader = torch.utils.data.DataLoader(dataset = train_dataset, batch_size = BATCH_SIZE, shuffle = True)\n",
        "test_loader= torch.utils.data.DataLoader(dataset = test_dataset, batch_size = BATCH_SIZE, shuffle = False)\n"
      ],
      "metadata": {
        "id": "bs3T03U_eZla"
      },
      "execution_count": null,
      "outputs": []
    },
    {
      "cell_type": "code",
      "source": [
        "for (X_train, y_train) in train_loader :\n",
        "  print('X_train: ', X_train.size(), 'type: ', X_train.type())\n",
        "  print('Y_train: ', y_train.size(), 'type: ', y_train.type())\n",
        "  break\n",
        "\n",
        "pltsize = 1\n",
        "plt.figure(figsize = (10 * pltsize, pltsize))\n",
        "for i in range(10) :\n",
        "  plt.subplot(1, 10, i+1)\n",
        "  plt.axis('off')\n",
        "  plt.imshow(X_train[i, :, :, :].numpy().reshape(28, 28), cmap = \"gray_r\")\n",
        "  plt.title('Class: '+ str(y_train[i].item()))\n",
        "\n",
        "  "
      ],
      "metadata": {
        "colab": {
          "base_uri": "https://localhost:8080/",
          "height": 128
        },
        "id": "tiQB4DgVeZi7",
        "outputId": "b3a287c3-6638-471c-c93b-153360a37280"
      },
      "execution_count": null,
      "outputs": [
        {
          "output_type": "stream",
          "name": "stdout",
          "text": [
            "X_train:  torch.Size([32, 1, 28, 28]) type:  torch.FloatTensor\n",
            "Y_train:  torch.Size([32]) type:  torch.LongTensor\n"
          ]
        },
        {
          "output_type": "display_data",
          "data": {
            "image/png": "[encoded data removed]",
            "text/plain": [
              "<Figure size 720x72 with 10 Axes>"
            ]
          },
          "metadata": {
            "needs_background": "light"
          }
        }
      ]
    },
    {
      "cell_type": "markdown",
      "source": [
        "#모델 설계"
      ],
      "metadata": {
        "id": "MRcaTGKHg5IT"
      }
    },
    {
      "cell_type": "code",
      "source": [
        "class Net(nn.Module) :\n",
        "  def __init__ (self) :\n",
        "    super(Net, self).__init__()\n",
        "    self.fc1 = nn.Linear(28 * 28, 512)\n",
        "    self.fc2 = nn.Linear(512, 256)\n",
        "    self.fc3 = nn.Linear(256, 10)\n",
        "    self.dropout_prob = 0.5\n",
        "    self.batch_norm1 = nn.BatchNorm1d(512)\n",
        "    self.batch_norm2 = nn.BatchNorm1d(256)\n",
        "\n",
        "  def forward(self, x) :\n",
        "    x = x.view(-1, 28 * 28)\n",
        "    x = self.fc1(x)\n",
        "    x = self.batch_norma1(x)\n",
        "    x = F.relu(x)\n",
        "    x = F.dropout(x, training = self.training, p = self.dropout_prob)\n",
        "    x = self.fc2(x)\n",
        "    x = self.batch_norm2(x)\n",
        "    x = F.relu(x)\n",
        "    x = F.dropout(x, training = self.training, p = self.dropout_prob)\n",
        "    x = self.fc3(x)\n",
        "    x = F.log_softmax(x, dim=1) #마지막으로 0~10 값을 출력하는데 원활하게 하기 위해서 log 함수 그래프를 이용한다.\n",
        "\n",
        "    return x\n",
        "\n"
      ],
      "metadata": {
        "id": "VtEuNGQSeZgm"
      },
      "execution_count": null,
      "outputs": []
    },
    {
      "cell_type": "code",
      "source": [
        "import torch.nn.init as init\n",
        "def weight_init(m) :\n",
        "  if isinstance(m, nn.Linear) :\n",
        "    init.kaiming_uniform_(m.weight.data)\n",
        "  \n",
        "\n",
        "model = Net().to(DEVICE)\n",
        "model.apply(weight_init)\n",
        "optimizer = torch.optim.Adam(model.parameters(), lr = 0.01)\n",
        "criterion = nn.CrossEntropyLoss()\n",
        "\n",
        "print(model)"
      ],
      "metadata": {
        "colab": {
          "base_uri": "https://localhost:8080/"
        },
        "id": "l9z58taNeZeW",
        "outputId": "c13ef005-a595-4629-de6f-49df0b7ac08a"
      },
      "execution_count": null,
      "outputs": [
        {
          "output_type": "stream",
          "name": "stdout",
          "text": [
            "Net(\n",
            "  (fc1): Linear(in_features=784, out_features=512, bias=True)\n",
            "  (fc2): Linear(in_features=512, out_features=256, bias=True)\n",
            "  (fc3): Linear(in_features=256, out_features=10, bias=True)\n",
            ")\n"
          ]
        }
      ]
    },
    {
      "cell_type": "markdown",
      "source": [
        "#학습 및 성능 확인"
      ],
      "metadata": {
        "id": "tVUAkVAmixvt"
      }
    },
    {
      "cell_type": "code",
      "source": [
        "def train(model, train_loader, optimizer, log_interval) :\n",
        "  model.train()\n",
        "  for batch_idx, (image, label) in enumerate(train_loader) :\n",
        "    image = image.to(DEVICE)\n",
        "    label = label..to(DEVICE)\n",
        "    optimizer.zero_grad()\n",
        "    output = model(image)\n",
        "    loss = criterion(output, labe)\n",
        "    loss.backward()\n",
        "    optimizer.step()\n",
        "    "
      ],
      "metadata": {
        "id": "wvS-csMP5h_5"
      },
      "execution_count": null,
      "outputs": []
    },
    {
      "cell_type": "code",
      "source": [
        "def evaluate(model, test_loader) :\n",
        "  model.eval()\n",
        "  test_loss = 0\n",
        "  correct = 0\n",
        "\n",
        "  with torch.no_grad() :\n",
        "    for image, label in test_loader :\n",
        "      image\n"
      ],
      "metadata": {
        "id": "IsQXJy_n6S2X"
      },
      "execution_count": null,
      "outputs": []
    },
    {
      "cell_type": "code",
      "source": [
        "def train(model, train_loader, optimizer, log_interval):\n",
        "    model.train()\n",
        "    for batch_idx, (image, label) in enumerate(train_loader):\n",
        "        image = image.to(DEVICE)\n",
        "        label = label.to(DEVICE)\n",
        "        optimizer.zero_grad()\n",
        "        output = model(image)\n",
        "        loss = criterion(output, label)\n",
        "        loss.backward()\n",
        "        optimizer.step()\n",
        "\n",
        "        if batch_idx % log_interval == 0:\n",
        "            print(\"Train Epoch: {} [{}/{} ({:.0f}%)]\\tTrain Loss: {:.6f}\".format(\n",
        "                epoch, batch_idx * len(image), \n",
        "                len(train_loader.dataset), 100. * batch_idx / len(train_loader), \n",
        "                loss.item()))\n",
        "            "
      ],
      "metadata": {
        "id": "cpWnsCuvgyCw"
      },
      "execution_count": null,
      "outputs": []
    },
    {
      "cell_type": "code",
      "source": [
        "def evaluate(model, test_loader) :\n",
        "  model.eva()\n",
        "  test_loss = 0\n",
        "  correct = 0\n",
        "\n",
        "  with no_grad() :\n",
        "    for image, label in test_loader :\n",
        "      image = image.to(DEVICE)\n",
        "      label = label.to(DEVICE)\n",
        "      output = model(image)\n",
        "      test_loss += criterion(output, label).item()\n",
        "      prediction = output.max(1, keep_dim = True)[1]\n",
        "      correct += prediction.eq(label.view_as(prediction)).sum().item()\n",
        "    \n",
        "    test_loss /= (len(test_loader.dataset)/BATCH_SIZE)\n",
        "    test_accuarcy = 100 * correct / (len(test_loader.dataset))"
      ],
      "metadata": {
        "id": "yLtG8b_g70Zr"
      },
      "execution_count": null,
      "outputs": []
    },
    {
      "cell_type": "code",
      "source": [
        "def evaluate(model, test_loader):\n",
        "    model.eval()\n",
        "    test_loss = 0\n",
        "    correct = 0\n",
        "\n",
        "    with torch.no_grad():\n",
        "        for image, label in test_loader:\n",
        "            image = image.to(DEVICE)\n",
        "            label = label.to(DEVICE)\n",
        "            output = model(image)\n",
        "            test_loss += criterion(output, label).item()\n",
        "            prediction = output.max(1, keepdim = True)[1]\n",
        "            correct += prediction.eq(label.view_as(prediction)).sum().item()\n",
        "    \n",
        "    test_loss /= (len(test_loader.dataset) / BATCH_SIZE)\n",
        "    test_accuracy = 100. * correct / len(test_loader.dataset)\n",
        "    return test_loss, test_accuracy"
      ],
      "metadata": {
        "id": "g6wiDUdknGUR"
      },
      "execution_count": null,
      "outputs": []
    },
    {
      "cell_type": "code",
      "source": [
        "for epoch in range(1, EPOCHS + 1):\n",
        "    train(model, train_loader, optimizer, log_interval = 200)\n",
        "    test_loss, test_accuracy = evaluate(model, test_loader)\n",
        "    print(\"\\n[EPOCH: {}], \\tTest Loss: {:.4f}, \\tTest Accuracy: {:.2f} % \\n\".format(\n",
        "        epoch, test_loss, test_accuracy))"
      ],
      "metadata": {
        "colab": {
          "base_uri": "https://localhost:8080/"
        },
        "id": "BriKs81Ei1fh",
        "outputId": "666641e3-c17b-4054-948a-62e459a54597"
      },
      "execution_count": null,
      "outputs": [
        {
          "output_type": "stream",
          "name": "stderr",
          "text": [
            "/usr/local/lib/python3.7/dist-packages/torch/nn/functional.py:1806: UserWarning: nn.functional.sigmoid is deprecated. Use torch.sigmoid instead.\n",
            "  warnings.warn(\"nn.functional.sigmoid is deprecated. Use torch.sigmoid instead.\")\n"
          ]
        },
        {
          "output_type": "stream",
          "name": "stdout",
          "text": [
            "Train Epoch: 1 [0/60000 (0%)]\tTrain Loss: 2.324343\n",
            "Train Epoch: 1 [6400/60000 (11%)]\tTrain Loss: 2.242311\n",
            "Train Epoch: 1 [12800/60000 (21%)]\tTrain Loss: 2.289017\n",
            "Train Epoch: 1 [19200/60000 (32%)]\tTrain Loss: 2.312981\n",
            "Train Epoch: 1 [25600/60000 (43%)]\tTrain Loss: 2.305590\n",
            "Train Epoch: 1 [32000/60000 (53%)]\tTrain Loss: 2.290631\n",
            "Train Epoch: 1 [38400/60000 (64%)]\tTrain Loss: 2.312973\n",
            "Train Epoch: 1 [44800/60000 (75%)]\tTrain Loss: 2.270411\n",
            "Train Epoch: 1 [51200/60000 (85%)]\tTrain Loss: 2.265192\n",
            "Train Epoch: 1 [57600/60000 (96%)]\tTrain Loss: 2.266425\n",
            "\n",
            "[EPOCH: 1], \tTest Loss: 2.2373, \tTest Accuracy: 11.98 % \n",
            "\n",
            "Train Epoch: 2 [0/60000 (0%)]\tTrain Loss: 2.248059\n",
            "Train Epoch: 2 [6400/60000 (11%)]\tTrain Loss: 2.226496\n",
            "Train Epoch: 2 [12800/60000 (21%)]\tTrain Loss: 2.146372\n",
            "Train Epoch: 2 [19200/60000 (32%)]\tTrain Loss: 2.144383\n",
            "Train Epoch: 2 [25600/60000 (43%)]\tTrain Loss: 1.979455\n",
            "Train Epoch: 2 [32000/60000 (53%)]\tTrain Loss: 1.914823\n",
            "Train Epoch: 2 [38400/60000 (64%)]\tTrain Loss: 1.797449\n",
            "Train Epoch: 2 [44800/60000 (75%)]\tTrain Loss: 1.454450\n",
            "Train Epoch: 2 [51200/60000 (85%)]\tTrain Loss: 1.323752\n",
            "Train Epoch: 2 [57600/60000 (96%)]\tTrain Loss: 1.465554\n",
            "\n",
            "[EPOCH: 2], \tTest Loss: 1.3048, \tTest Accuracy: 54.65 % \n",
            "\n",
            "Train Epoch: 3 [0/60000 (0%)]\tTrain Loss: 1.326936\n",
            "Train Epoch: 3 [6400/60000 (11%)]\tTrain Loss: 1.367749\n",
            "Train Epoch: 3 [12800/60000 (21%)]\tTrain Loss: 1.216882\n",
            "Train Epoch: 3 [19200/60000 (32%)]\tTrain Loss: 1.159177\n",
            "Train Epoch: 3 [25600/60000 (43%)]\tTrain Loss: 0.776852\n",
            "Train Epoch: 3 [32000/60000 (53%)]\tTrain Loss: 1.050899\n",
            "Train Epoch: 3 [38400/60000 (64%)]\tTrain Loss: 0.827220\n",
            "Train Epoch: 3 [44800/60000 (75%)]\tTrain Loss: 0.863982\n",
            "Train Epoch: 3 [51200/60000 (85%)]\tTrain Loss: 0.789835\n",
            "Train Epoch: 3 [57600/60000 (96%)]\tTrain Loss: 0.671026\n",
            "\n",
            "[EPOCH: 3], \tTest Loss: 0.7779, \tTest Accuracy: 75.22 % \n",
            "\n",
            "Train Epoch: 4 [0/60000 (0%)]\tTrain Loss: 0.602359\n",
            "Train Epoch: 4 [6400/60000 (11%)]\tTrain Loss: 0.936502\n",
            "Train Epoch: 4 [12800/60000 (21%)]\tTrain Loss: 0.456592\n",
            "Train Epoch: 4 [19200/60000 (32%)]\tTrain Loss: 0.873958\n",
            "Train Epoch: 4 [25600/60000 (43%)]\tTrain Loss: 0.640675\n",
            "Train Epoch: 4 [32000/60000 (53%)]\tTrain Loss: 0.464461\n",
            "Train Epoch: 4 [38400/60000 (64%)]\tTrain Loss: 0.477849\n",
            "Train Epoch: 4 [44800/60000 (75%)]\tTrain Loss: 0.500189\n",
            "Train Epoch: 4 [51200/60000 (85%)]\tTrain Loss: 0.641023\n",
            "Train Epoch: 4 [57600/60000 (96%)]\tTrain Loss: 0.599355\n",
            "\n",
            "[EPOCH: 4], \tTest Loss: 0.5682, \tTest Accuracy: 83.50 % \n",
            "\n",
            "Train Epoch: 5 [0/60000 (0%)]\tTrain Loss: 0.499105\n",
            "Train Epoch: 5 [6400/60000 (11%)]\tTrain Loss: 0.797325\n",
            "Train Epoch: 5 [12800/60000 (21%)]\tTrain Loss: 0.392865\n",
            "Train Epoch: 5 [19200/60000 (32%)]\tTrain Loss: 0.467969\n",
            "Train Epoch: 5 [25600/60000 (43%)]\tTrain Loss: 0.579377\n",
            "Train Epoch: 5 [32000/60000 (53%)]\tTrain Loss: 0.391978\n",
            "Train Epoch: 5 [38400/60000 (64%)]\tTrain Loss: 0.429560\n",
            "Train Epoch: 5 [44800/60000 (75%)]\tTrain Loss: 0.899755\n",
            "Train Epoch: 5 [51200/60000 (85%)]\tTrain Loss: 0.314640\n",
            "Train Epoch: 5 [57600/60000 (96%)]\tTrain Loss: 0.417869\n",
            "\n",
            "[EPOCH: 5], \tTest Loss: 0.4691, \tTest Accuracy: 86.41 % \n",
            "\n",
            "Train Epoch: 6 [0/60000 (0%)]\tTrain Loss: 0.283508\n",
            "Train Epoch: 6 [6400/60000 (11%)]\tTrain Loss: 0.238360\n",
            "Train Epoch: 6 [12800/60000 (21%)]\tTrain Loss: 0.334912\n",
            "Train Epoch: 6 [19200/60000 (32%)]\tTrain Loss: 0.472342\n",
            "Train Epoch: 6 [25600/60000 (43%)]\tTrain Loss: 0.321199\n",
            "Train Epoch: 6 [32000/60000 (53%)]\tTrain Loss: 0.452401\n",
            "Train Epoch: 6 [38400/60000 (64%)]\tTrain Loss: 0.345743\n",
            "Train Epoch: 6 [44800/60000 (75%)]\tTrain Loss: 0.388572\n",
            "Train Epoch: 6 [51200/60000 (85%)]\tTrain Loss: 0.317202\n",
            "Train Epoch: 6 [57600/60000 (96%)]\tTrain Loss: 0.399917\n",
            "\n",
            "[EPOCH: 6], \tTest Loss: 0.4168, \tTest Accuracy: 87.71 % \n",
            "\n",
            "Train Epoch: 7 [0/60000 (0%)]\tTrain Loss: 0.647468\n",
            "Train Epoch: 7 [6400/60000 (11%)]\tTrain Loss: 0.519876\n",
            "Train Epoch: 7 [12800/60000 (21%)]\tTrain Loss: 0.321836\n",
            "Train Epoch: 7 [19200/60000 (32%)]\tTrain Loss: 0.395314\n",
            "Train Epoch: 7 [25600/60000 (43%)]\tTrain Loss: 0.497676\n",
            "Train Epoch: 7 [32000/60000 (53%)]\tTrain Loss: 0.485476\n",
            "Train Epoch: 7 [38400/60000 (64%)]\tTrain Loss: 0.305308\n",
            "Train Epoch: 7 [44800/60000 (75%)]\tTrain Loss: 0.367254\n",
            "Train Epoch: 7 [51200/60000 (85%)]\tTrain Loss: 0.705285\n",
            "Train Epoch: 7 [57600/60000 (96%)]\tTrain Loss: 0.594637\n",
            "\n",
            "[EPOCH: 7], \tTest Loss: 0.3839, \tTest Accuracy: 88.86 % \n",
            "\n",
            "Train Epoch: 8 [0/60000 (0%)]\tTrain Loss: 0.581248\n",
            "Train Epoch: 8 [6400/60000 (11%)]\tTrain Loss: 0.421700\n",
            "Train Epoch: 8 [12800/60000 (21%)]\tTrain Loss: 0.344678\n",
            "Train Epoch: 8 [19200/60000 (32%)]\tTrain Loss: 0.359700\n",
            "Train Epoch: 8 [25600/60000 (43%)]\tTrain Loss: 0.282849\n",
            "Train Epoch: 8 [32000/60000 (53%)]\tTrain Loss: 0.307256\n",
            "Train Epoch: 8 [38400/60000 (64%)]\tTrain Loss: 0.229713\n",
            "Train Epoch: 8 [44800/60000 (75%)]\tTrain Loss: 0.679508\n",
            "Train Epoch: 8 [51200/60000 (85%)]\tTrain Loss: 0.221528\n",
            "Train Epoch: 8 [57600/60000 (96%)]\tTrain Loss: 0.487673\n",
            "\n",
            "[EPOCH: 8], \tTest Loss: 0.3633, \tTest Accuracy: 89.41 % \n",
            "\n",
            "Train Epoch: 9 [0/60000 (0%)]\tTrain Loss: 0.519680\n",
            "Train Epoch: 9 [6400/60000 (11%)]\tTrain Loss: 0.223215\n",
            "Train Epoch: 9 [12800/60000 (21%)]\tTrain Loss: 0.457101\n",
            "Train Epoch: 9 [19200/60000 (32%)]\tTrain Loss: 0.617601\n",
            "Train Epoch: 9 [25600/60000 (43%)]\tTrain Loss: 0.482839\n",
            "Train Epoch: 9 [32000/60000 (53%)]\tTrain Loss: 0.297634\n",
            "Train Epoch: 9 [38400/60000 (64%)]\tTrain Loss: 0.358470\n",
            "Train Epoch: 9 [44800/60000 (75%)]\tTrain Loss: 0.538140\n",
            "Train Epoch: 9 [51200/60000 (85%)]\tTrain Loss: 0.294234\n",
            "Train Epoch: 9 [57600/60000 (96%)]\tTrain Loss: 0.322674\n",
            "\n",
            "[EPOCH: 9], \tTest Loss: 0.3534, \tTest Accuracy: 89.70 % \n",
            "\n",
            "Train Epoch: 10 [0/60000 (0%)]\tTrain Loss: 0.326835\n",
            "Train Epoch: 10 [6400/60000 (11%)]\tTrain Loss: 0.416204\n",
            "Train Epoch: 10 [12800/60000 (21%)]\tTrain Loss: 0.216289\n",
            "Train Epoch: 10 [19200/60000 (32%)]\tTrain Loss: 0.264054\n",
            "Train Epoch: 10 [25600/60000 (43%)]\tTrain Loss: 0.450238\n",
            "Train Epoch: 10 [32000/60000 (53%)]\tTrain Loss: 0.380575\n",
            "Train Epoch: 10 [38400/60000 (64%)]\tTrain Loss: 0.424068\n",
            "Train Epoch: 10 [44800/60000 (75%)]\tTrain Loss: 0.156636\n",
            "Train Epoch: 10 [51200/60000 (85%)]\tTrain Loss: 0.447321\n",
            "Train Epoch: 10 [57600/60000 (96%)]\tTrain Loss: 0.204620\n",
            "\n",
            "[EPOCH: 10], \tTest Loss: 0.3377, \tTest Accuracy: 90.13 % \n",
            "\n"
          ]
        }
      ]
    }
  ]
}